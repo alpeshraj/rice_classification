{
 "cells": [
  {
   "cell_type": "markdown",
   "id": "dd19c102",
   "metadata": {},
   "source": [
    "### Importing the libraries"
   ]
  },
  {
   "cell_type": "code",
   "execution_count": 1,
   "id": "806b30bb",
   "metadata": {},
   "outputs": [],
   "source": [
    "import tensorflow as tf"
   ]
  },
  {
   "cell_type": "markdown",
   "id": "14facd8f",
   "metadata": {},
   "source": [
    "### Data preprocessing"
   ]
  },
  {
   "cell_type": "code",
   "execution_count": 2,
   "id": "18ea9bf4",
   "metadata": {},
   "outputs": [],
   "source": [
    "from keras.preprocessing.image import ImageDataGenerator"
   ]
  },
  {
   "cell_type": "markdown",
   "id": "e9d1a6c2",
   "metadata": {},
   "source": [
    "### Splliting the data and preprocessing the training set as well as Test set"
   ]
  },
  {
   "cell_type": "code",
   "execution_count": 3,
   "id": "ceda61cb",
   "metadata": {},
   "outputs": [
    {
     "name": "stdout",
     "output_type": "stream",
     "text": [
      "Found 51119 images belonging to 5 classes.\n"
     ]
    }
   ],
   "source": [
    "data = ImageDataGenerator(validation_split=0.3,rescale=1./255)\n",
    "\n",
    "training_set = data.flow_from_directory('E:/DAta Science/Rice_Image_Dataset/Rice_Image_Dataset',subset = 'training', target_size = (64, 64), batch_size = 32, class_mode = 'binary')"
   ]
  },
  {
   "cell_type": "code",
   "execution_count": 4,
   "id": "01298da1",
   "metadata": {},
   "outputs": [
    {
     "name": "stdout",
     "output_type": "stream",
     "text": [
      "Found 21907 images belonging to 5 classes.\n"
     ]
    }
   ],
   "source": [
    "test_set = data.flow_from_directory('E:/DAta Science/Rice_Image_Dataset/Rice_Image_Dataset',subset = 'validation', target_size = (64, 64), batch_size = 32, class_mode = 'binary')"
   ]
  },
  {
   "cell_type": "code",
   "execution_count": 5,
   "id": "bb4d4c3d",
   "metadata": {},
   "outputs": [
    {
     "data": {
      "text/plain": [
       "{'Arborio': 0, 'Basmati': 1, 'Ipsala': 2, 'Jasmine': 3, 'Karacadag': 4}"
      ]
     },
     "execution_count": 5,
     "metadata": {},
     "output_type": "execute_result"
    }
   ],
   "source": [
    "training_set.class_indices"
   ]
  },
  {
   "cell_type": "markdown",
   "id": "66340528",
   "metadata": {},
   "source": [
    "### Building the CNN"
   ]
  },
  {
   "cell_type": "code",
   "execution_count": 6,
   "id": "85c2f2cf",
   "metadata": {},
   "outputs": [],
   "source": [
    "## Initialising the CNN\n",
    "from keras.models import Sequential\n",
    "classifier = Sequential()\n"
   ]
  },
  {
   "cell_type": "code",
   "execution_count": 7,
   "id": "583e9d5d",
   "metadata": {},
   "outputs": [],
   "source": [
    "## Step 1- Convolution\n",
    "from keras.layers import Conv2D\n",
    "classifier.add(Conv2D(filters=32, kernel_size=3, activation='relu', input_shape = [64,64,3]))"
   ]
  },
  {
   "cell_type": "code",
   "execution_count": 8,
   "id": "cefaf2b1",
   "metadata": {},
   "outputs": [],
   "source": [
    "## Step 2 -Pooling\n",
    "from keras.layers import MaxPooling2D\n",
    "classifier.add(MaxPooling2D(pool_size=2,strides=2))"
   ]
  },
  {
   "cell_type": "code",
   "execution_count": 9,
   "id": "b2519570",
   "metadata": {},
   "outputs": [],
   "source": [
    "### Adding a second Convolutional layer\n",
    "classifier.add(Conv2D(filters=32, kernel_size=3, activation='relu'))\n",
    "classifier.add(MaxPooling2D(pool_size=2,strides=2))"
   ]
  },
  {
   "cell_type": "code",
   "execution_count": 10,
   "id": "ee8d3a51",
   "metadata": {},
   "outputs": [],
   "source": [
    "## Step 3 - Flattening\n",
    "from keras.layers import Flatten\n",
    "classifier.add(Flatten())"
   ]
  },
  {
   "cell_type": "code",
   "execution_count": 11,
   "id": "e91260bf",
   "metadata": {},
   "outputs": [],
   "source": [
    "## Step 4- Full Connection\n",
    "from keras.layers import Dense\n",
    "classifier.add(Dense(units = 128, activation = 'relu'))"
   ]
  },
  {
   "cell_type": "code",
   "execution_count": 12,
   "id": "44b9e44f",
   "metadata": {},
   "outputs": [],
   "source": [
    "## Output Layer\n",
    "classifier.add(Dense(units = 1, activation = 'sigmoid'))"
   ]
  },
  {
   "cell_type": "markdown",
   "id": "39104966",
   "metadata": {},
   "source": [
    "### Training the CNN"
   ]
  },
  {
   "cell_type": "code",
   "execution_count": 13,
   "id": "1f7c430b",
   "metadata": {},
   "outputs": [],
   "source": [
    "###Compiling the CNN\n",
    "classifier.compile(optimizer = 'adam', loss='binary_crossentropy',metrics=['accuracy'])\n"
   ]
  },
  {
   "cell_type": "code",
   "execution_count": null,
   "id": "4391b8a3",
   "metadata": {},
   "outputs": [],
   "source": [
    "classifier.fit(x=training_set,validation_data=test_set,epochs=25)"
   ]
  },
  {
   "cell_type": "code",
   "execution_count": null,
   "id": "23ea6965",
   "metadata": {},
   "outputs": [],
   "source": [
    "### MAking a single Prediction\n",
    "import numpy as np\n",
    "from keras.preprocessing import image\n"
   ]
  }
 ],
 "metadata": {
  "kernelspec": {
   "display_name": "Python 3 (ipykernel)",
   "language": "python",
   "name": "python3"
  },
  "language_info": {
   "codemirror_mode": {
    "name": "ipython",
    "version": 3
   },
   "file_extension": ".py",
   "mimetype": "text/x-python",
   "name": "python",
   "nbconvert_exporter": "python",
   "pygments_lexer": "ipython3",
   "version": "3.9.7"
  }
 },
 "nbformat": 4,
 "nbformat_minor": 5
}
